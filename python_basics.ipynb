{
  "nbformat": 4,
  "nbformat_minor": 0,
  "metadata": {
    "colab": {
      "provenance": []
    },
    "kernelspec": {
      "name": "python3",
      "display_name": "Python 3"
    },
    "language_info": {
      "name": "python"
    }
  },
  "cells": [
    {
      "cell_type": "code",
      "execution_count": null,
      "metadata": {
        "id": "1NsBa-9lOh6U"
      },
      "outputs": [],
      "source": []
    },
    {
      "cell_type": "markdown",
      "source": [
        "1.What is python, and why is it possible?\n",
        "\n",
        "->Python is a programming language that is used for web development,software\n",
        "  development,mathmatics, sysytem scripting etc.It is popular because it is:\n",
        "  a.it is easy to learn programming language\n",
        "  b.work on different platforms\n",
        "  c.simple syentax\n",
        "  d.runs on interpreter sysytem\n",
        "\n",
        "  2.What is interpreter in python?\n",
        "\n",
        "  ->Python interpreter is a computer program which converts each high level\n",
        "  programming statment into machine code. It interpret the code written by the user that computer can understand.\n",
        "\n",
        "  3.What are the pre-defined keywords in the python?\n",
        "\n",
        "  ->Pre-defined keywords are the pre reserved words in python which hold a specific meaning and cannot be changed. Keywords cannot be used as identifiers.\n",
        "\n",
        "  4.Can keywords be used as a variable names?\n",
        "\n",
        "  ->No, keywords cannot be used as a variable because keywords are pre-reserved words in python which hold a special meaning. If we use keywords as variable it will show an error.\n",
        "\n",
        "  5.What is mutability in python?\n",
        "\n",
        "  ->Mutability in python refers to an ability to change the value of an object after being created. Examples are -list, dictonaries and sets.\n",
        "\n",
        "  6.Why are list mutable, but tuples are immutable?\n",
        "\n",
        "  ->Tuples are immutable because their design intended to represent fixed collection of data that cannot be change once created while list are mutable and allow for modification.\n",
        "\n",
        "  7.Difference between \"==\" and \"is\" operator in Python?\n",
        "\n",
        "  ->\"==\" it checks if the values of two objects are equal.\n",
        "  \"is\" checks if two variable point to the same object.\n",
        "\n",
        "  8.What are logical operators in python?\n",
        "  ->Logical operators are used to combine multiple condition together and evaluate them as a single boolean expression. Example:- 'And', 'or\",'NOT'.\n",
        "\n",
        "  9. What is type casting in python?\n",
        "  ->The process of changing the data type of an object is called Type Casting in python.\n",
        "\n",
        "  10.What is the difference between Implicit and explicit type casting?\n",
        "\n",
        "  ->In implicit type casting python understands the data type while in explicit programmer converts the data type using in built function string,integer,float,boolean ets.\n",
        "\n",
        "  11.What is the purpose of conditional statment in python?\n",
        "\n",
        "  ->Conditional statement in python allows a program to execute specific block of code based on some precondition.\n",
        "\n",
        "  12.How does the elif statement work?\n",
        "\n",
        "  ->In elif statement if one condition is satisfied it will not go further it will print on ehich the condition was satisfied.\n",
        "\n",
        "  13.What is the difference between 'for' and 'while' loop?\n",
        "\n",
        "  ->'For' loop is used when you know exactly how many times you want to repeat a block of code while in 'while'loop it repeatedly executes a block of code until a condition is met.\n",
        "\n",
        "  14.Describe a scenario where a while loop is more suitable than a for loop.\n",
        "\n",
        "  ->Imagine you want to keep asking a user for their age until they enter a number greater than 0 : In this case we dont know how many attempts it will take so while loop is more useful as compared to for loop.\n",
        "\n",
        "  \n",
        "\n",
        "  \n"
      ],
      "metadata": {
        "id": "sD3N-Kg9PfMg"
      }
    },
    {
      "cell_type": "code",
      "source": [],
      "metadata": {
        "id": "vfEBUnJnXOMc"
      },
      "execution_count": null,
      "outputs": []
    },
    {
      "cell_type": "markdown",
      "source": [
        "PRACTICAL QUESTIONS\n"
      ],
      "metadata": {
        "id": "lA09AtzWXTax"
      }
    },
    {
      "cell_type": "code",
      "source": [
        "#1. Write a python program to print \"Hello,World!\"\n",
        "print(\"Hello,World!\")"
      ],
      "metadata": {
        "colab": {
          "base_uri": "https://localhost:8080/"
        },
        "id": "rin6LHRAXatG",
        "outputId": "f179d97f-b20a-4105-9952-0ba615e337d4"
      },
      "execution_count": 1,
      "outputs": [
        {
          "output_type": "stream",
          "name": "stdout",
          "text": [
            "Hello,World!\n"
          ]
        }
      ]
    },
    {
      "cell_type": "code",
      "source": [
        "#2.Write a python program to display your name and age.\n",
        "name=\"Astha\"\n",
        "age=21\n",
        "print(\"name:\",name)\n",
        "print(\"age:\",age)"
      ],
      "metadata": {
        "colab": {
          "base_uri": "https://localhost:8080/"
        },
        "id": "qiCjXloTYy6v",
        "outputId": "57adf3a9-2a4e-431a-a784-10373ff8d436"
      },
      "execution_count": 2,
      "outputs": [
        {
          "output_type": "stream",
          "name": "stdout",
          "text": [
            "name: Astha\n",
            "age: 21\n"
          ]
        }
      ]
    },
    {
      "cell_type": "code",
      "source": [
        "#3. print all the pre defined keywors in python using keyword library.\n",
        "import keyword\n",
        "print(keyword.kwlist)"
      ],
      "metadata": {
        "colab": {
          "base_uri": "https://localhost:8080/"
        },
        "id": "XL46vqfOZW31",
        "outputId": "83f074b7-22f7-4902-b0b8-a0b83f8be8ff"
      },
      "execution_count": 3,
      "outputs": [
        {
          "output_type": "stream",
          "name": "stdout",
          "text": [
            "['False', 'None', 'True', 'and', 'as', 'assert', 'async', 'await', 'break', 'class', 'continue', 'def', 'del', 'elif', 'else', 'except', 'finally', 'for', 'from', 'global', 'if', 'import', 'in', 'is', 'lambda', 'nonlocal', 'not', 'or', 'pass', 'raise', 'return', 'try', 'while', 'with', 'yield']\n"
          ]
        }
      ]
    },
    {
      "cell_type": "code",
      "source": [
        "#4.Write a program that checks if a given word is a python keyword.\n",
        "import keyword\n",
        "word = input(\"Enter a word: \")\n",
        "\n",
        "if is_python_keyword(word):\n",
        "    print(f\"'{word}' is a Python keyword.\")\n",
        "else:\n",
        "    print(f\"'{word}' is not a Python keyword.\")\n"
      ],
      "metadata": {
        "colab": {
          "base_uri": "https://localhost:8080/"
        },
        "id": "h-aa8mqNbLWz",
        "outputId": "2d8e4507-4222-487b-9714-62e797cdd155"
      },
      "execution_count": 14,
      "outputs": [
        {
          "output_type": "stream",
          "name": "stdout",
          "text": [
            "Enter a word: str\n",
            "'str' is not a Python keyword.\n"
          ]
        }
      ]
    },
    {
      "cell_type": "code",
      "source": [
        "#5.Create a list and tuple in Python, and demonstrate how attempting to change an element works differently for each.\n",
        "my_list = [1, 2, 3, 4]\n",
        "my_tuple = (1, 2, 3, 4)\n",
        "print(\"Original list:\", my_list)\n",
        "my_list[2] = 100\n",
        "print(\"List after modification:\", my_list)\n",
        "print(\"\\nOriginal tuple:\", my_tuple)\n",
        "try:\n",
        "    my_tuple[2] = 100  # Trying to change the third element of the tuple\n",
        "except TypeError as e:\n",
        "    print(\"Error:\", e)\n",
        ""
      ],
      "metadata": {
        "colab": {
          "base_uri": "https://localhost:8080/"
        },
        "id": "laS3NPlXev2G",
        "outputId": "4d5dda15-788e-4e41-cf72-bdf5a3f9fc63"
      },
      "execution_count": 23,
      "outputs": [
        {
          "output_type": "stream",
          "name": "stdout",
          "text": [
            "Original list: [1, 2, 3, 4]\n",
            "List after modification: [1, 2, 100, 4]\n",
            "\n",
            "Original tuple: (1, 2, 3, 4)\n",
            "Error: 'tuple' object does not support item assignment\n"
          ]
        }
      ]
    },
    {
      "cell_type": "code",
      "source": [
        "#6.Write a function to demonstarte the behaviour of mutable and immutable argument.\n",
        "def modify_args(mutable, immutable):\n",
        "\n",
        "    print(\"Before modification:\")\n",
        "    print(f\"Mutable: {mutable}\")\n",
        "    print(f\"Immutable: {immutable}\")\n",
        "\n",
        "\n",
        "    mutable.append(10)\n",
        "\n",
        "\n",
        "    immutable = \"Changed\"\n",
        "\n",
        "\n",
        "    print(\"\\nAfter modification:\")\n",
        "    print(f\"Mutable: {mutable}\")\n",
        "    print(f\"Immutable: {immutable}\")\n",
        "\n",
        "\n",
        "my_list = [1, 2, 3]\n",
        "my_string = \"Original\"\n",
        "\n",
        "modify_args(my_list, my_string)\n",
        "print(\"\\nOutside the function:\")\n",
        "print(f\"my_list: {my_list}\")\n",
        "print(f\"my_string: {my_string}\")\n"
      ],
      "metadata": {
        "colab": {
          "base_uri": "https://localhost:8080/"
        },
        "id": "5UR6CP9une2z",
        "outputId": "066bb66b-4a2a-45ad-e872-ef89be64921a"
      },
      "execution_count": 24,
      "outputs": [
        {
          "output_type": "stream",
          "name": "stdout",
          "text": [
            "Before modification:\n",
            "Mutable: [1, 2, 3]\n",
            "Immutable: Original\n",
            "\n",
            "After modification:\n",
            "Mutable: [1, 2, 3, 10]\n",
            "Immutable: Changed\n",
            "\n",
            "Outside the function:\n",
            "my_list: [1, 2, 3, 10]\n",
            "my_string: Original\n"
          ]
        }
      ]
    },
    {
      "cell_type": "code",
      "source": [
        "#7.Write a program to demonstarte the use of logical operator.\n",
        "x=10\n",
        "y=5\n",
        "if x>y and y>0:\n",
        "  print(\"x is greater than y And y is positive. \")\n",
        "if x>y or y<0:\n",
        "  print(\"either x is greater than y, Or y is negative.\")\n",
        "  if not y>x:\n",
        "    print(\"y is Not greater than x\")"
      ],
      "metadata": {
        "colab": {
          "base_uri": "https://localhost:8080/"
        },
        "id": "xYhnPFNzqX_6",
        "outputId": "957f6195-251d-43e3-c96f-53e330cfdd38"
      },
      "execution_count": 27,
      "outputs": [
        {
          "output_type": "stream",
          "name": "stdout",
          "text": [
            "x is greater than y And y is positive. \n",
            "either x is greater than y, Or y is negative.\n",
            "y is Not greater than x\n"
          ]
        }
      ]
    },
    {
      "cell_type": "code",
      "source": [
        "#8.Write a Python program to convert user input from string to integer, float, and boolean types\n",
        "user_input=input(\"Enter a number:\")\n",
        "user_input_int=int(user_input)\n",
        "user_input_float=float(user_input)\n",
        "user_input_bool=bool(user_input)\n",
        "print(user_input_int)\n",
        "print(user_input_float)\n",
        "print(user_input_bool)"
      ],
      "metadata": {
        "colab": {
          "base_uri": "https://localhost:8080/"
        },
        "id": "Q9CqB7ydsaP9",
        "outputId": "676ab45f-a64b-4f4b-eb9a-1c61d447b926"
      },
      "execution_count": 28,
      "outputs": [
        {
          "output_type": "stream",
          "name": "stdout",
          "text": [
            "Enter a number:21\n",
            "21\n",
            "21.0\n",
            "True\n"
          ]
        }
      ]
    },
    {
      "cell_type": "code",
      "source": [
        "#9.Write a loop to print numbers from 1 to 10.\n",
        "for i in range (1,11):\n",
        "  print(i)"
      ],
      "metadata": {
        "colab": {
          "base_uri": "https://localhost:8080/"
        },
        "id": "o6z81c1HwalE",
        "outputId": "ac29f2de-1030-4cbc-9506-23db9c07da4e"
      },
      "execution_count": 29,
      "outputs": [
        {
          "output_type": "stream",
          "name": "stdout",
          "text": [
            "1\n",
            "2\n",
            "3\n",
            "4\n",
            "5\n",
            "6\n",
            "7\n",
            "8\n",
            "9\n",
            "10\n"
          ]
        }
      ]
    },
    {
      "cell_type": "code",
      "source": [
        "#10.Find sum of all even numbers between 1 to 50.\n",
        "sum_even = 0\n",
        "for num in range(1, 51):\n",
        "    if num % 2 == 0:\n",
        "        sum_even += num\n",
        "print(\"The sum of all even numbers between 1 and 50 is:\", sum_even)\n",
        "\n"
      ],
      "metadata": {
        "colab": {
          "base_uri": "https://localhost:8080/"
        },
        "id": "dqC6c3Dn0Zkg",
        "outputId": "d573d9a6-8d84-481f-9fe2-06750010e711"
      },
      "execution_count": 41,
      "outputs": [
        {
          "output_type": "stream",
          "name": "stdout",
          "text": [
            "The sum of all even numbers between 1 and 50 is: 650\n"
          ]
        }
      ]
    },
    {
      "cell_type": "code",
      "source": [
        "#12. Write a program to reverse a string\n",
        "s=\"hello world\"\n",
        "s[::-1]\n"
      ],
      "metadata": {
        "colab": {
          "base_uri": "https://localhost:8080/",
          "height": 36
        },
        "id": "4bDa2Rfj2h2x",
        "outputId": "065e0542-aacc-4ede-e3fb-64db7b69d8c5"
      },
      "execution_count": 44,
      "outputs": [
        {
          "output_type": "execute_result",
          "data": {
            "text/plain": [
              "'dlrow olleh'"
            ],
            "application/vnd.google.colaboratory.intrinsic+json": {
              "type": "string"
            }
          },
          "metadata": {},
          "execution_count": 44
        }
      ]
    },
    {
      "cell_type": "code",
      "source": [
        "#13.Write  a program that checks if a number is positive negative or zero.\n",
        "def check_number(num):\n",
        "    if num > 0:\n",
        "        print(\"The number is positive.\")\n",
        "    elif num < 0:\n",
        "        print(\"The number is negative.\")\n",
        "    else:\n",
        "        print(\"The number is zero.\")\n",
        "number = float(input(\"Enter a number: \"))\n",
        "result = check_number(number)\n",
        "print(result)\n"
      ],
      "metadata": {
        "colab": {
          "base_uri": "https://localhost:8080/"
        },
        "id": "l9VPUi_N5oFq",
        "outputId": "b0e72c11-9d5b-4aec-e5a6-c9d99e677ba2"
      },
      "execution_count": 45,
      "outputs": [
        {
          "output_type": "stream",
          "name": "stdout",
          "text": [
            "Enter a number: 23\n",
            "The number is positive.\n",
            "None\n"
          ]
        }
      ]
    },
    {
      "cell_type": "code",
      "source": [
        "\n"
      ],
      "metadata": {
        "id": "K0jLiavy6u7Q"
      },
      "execution_count": 52,
      "outputs": []
    }
  ]
}